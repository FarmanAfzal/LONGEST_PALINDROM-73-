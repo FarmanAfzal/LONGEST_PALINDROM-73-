{
  "nbformat": 4,
  "nbformat_minor": 0,
  "metadata": {
    "colab": {
      "provenance": []
    },
    "kernelspec": {
      "name": "python3",
      "display_name": "Python 3"
    },
    "language_info": {
      "name": "python"
    }
  },
  "cells": [
    {
      "cell_type": "code",
      "execution_count": 4,
      "metadata": {
        "colab": {
          "base_uri": "https://localhost:8080/"
        },
        "id": "Gg0nUaqAQErz",
        "outputId": "8b96e026-9a3f-49a1-b629-389ef965af1b"
      },
      "outputs": [
        {
          "output_type": "stream",
          "name": "stdout",
          "text": [
            "# Example usage according to given file:\n",
            "Example 1: 7\n",
            "Example 2: 1\n",
            "# using another example\n",
            "Enter the string: CIVIC HAM\n",
            "5\n"
          ]
        }
      ],
      "source": [
        "#roll no. 73 and name is farman\n",
        "def longest_palindrome(s):\n",
        "    # Importing Counter to count the frequency of characters\n",
        "    from collections import Counter\n",
        "    char_count = Counter(s)\n",
        "    length = 0\n",
        "    odd_found = False\n",
        "\n",
        "\n",
        "    for count in char_count.values():\n",
        "        length += count // 2 * 2\n",
        "\n",
        "        if count % 2 == 1:\n",
        "            odd_found = True\n",
        "\n",
        "    if odd_found:\n",
        "        length += 1\n",
        "\n",
        "    return length\n",
        "\n",
        "# Example usage according to given file:\n",
        "example_1 = \"abccccdd\"\n",
        "example_2 = \"a\"\n",
        "print(\"# Example usage according to given file:\")\n",
        "print(\"Example 1:\", longest_palindrome(example_1))\n",
        "print(\"Example 2:\", longest_palindrome(example_2))\n",
        "\n",
        "# using another example\n",
        "print(\"# using another example\")\n",
        "example_3 = str(input(\"Enter the string: \"))\n",
        "print(longest_palindrome(example_3))\n",
        "\n"
      ]
    }
  ]
}